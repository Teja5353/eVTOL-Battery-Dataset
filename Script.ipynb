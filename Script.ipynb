{
 "cells": [
  {
   "cell_type": "code",
   "execution_count": 2,
   "id": "49352c91-3170-45e8-ac10-34045953627d",
   "metadata": {},
   "outputs": [],
   "source": [
    "import pandas as pd\n",
    "import numpy as np\n",
    "import plotly.express as px\n",
    "import matplotlib.pyplot as plt"
   ]
  },
  {
   "cell_type": "code",
   "execution_count": 3,
   "id": "98c0901f-4ab6-4d77-b3cc-662c5e325c49",
   "metadata": {},
   "outputs": [],
   "source": [
    "baseline = pd.read_csv(\"VAH01.csv\")"
   ]
  },
  {
   "cell_type": "code",
   "execution_count": 4,
   "id": "ae020a8b-0cfd-4663-9211-af30bcc21147",
   "metadata": {},
   "outputs": [
    {
     "data": {
      "text/html": [
       "<div>\n",
       "<style scoped>\n",
       "    .dataframe tbody tr th:only-of-type {\n",
       "        vertical-align: middle;\n",
       "    }\n",
       "\n",
       "    .dataframe tbody tr th {\n",
       "        vertical-align: top;\n",
       "    }\n",
       "\n",
       "    .dataframe thead th {\n",
       "        text-align: right;\n",
       "    }\n",
       "</style>\n",
       "<table border=\"1\" class=\"dataframe\">\n",
       "  <thead>\n",
       "    <tr style=\"text-align: right;\">\n",
       "      <th></th>\n",
       "      <th>time_s</th>\n",
       "      <th>Ecell_V</th>\n",
       "      <th>I_mA</th>\n",
       "      <th>EnergyCharge_W_h</th>\n",
       "      <th>QCharge_mA_h</th>\n",
       "      <th>EnergyDischarge_W_h</th>\n",
       "      <th>QDischarge_mA_h</th>\n",
       "      <th>Temperature__C</th>\n",
       "      <th>cycleNumber</th>\n",
       "      <th>Ns</th>\n",
       "    </tr>\n",
       "  </thead>\n",
       "  <tbody>\n",
       "    <tr>\n",
       "      <th>0</th>\n",
       "      <td>0.000000</td>\n",
       "      <td>3.538717</td>\n",
       "      <td>1491.3828</td>\n",
       "      <td>0.000000</td>\n",
       "      <td>0.000000</td>\n",
       "      <td>0.0</td>\n",
       "      <td>0.0</td>\n",
       "      <td>21.139246</td>\n",
       "      <td>0</td>\n",
       "      <td>0</td>\n",
       "    </tr>\n",
       "    <tr>\n",
       "      <th>1</th>\n",
       "      <td>10.000000</td>\n",
       "      <td>3.545570</td>\n",
       "      <td>1492.1708</td>\n",
       "      <td>0.014693</td>\n",
       "      <td>4.144108</td>\n",
       "      <td>0.0</td>\n",
       "      <td>0.0</td>\n",
       "      <td>21.115524</td>\n",
       "      <td>0</td>\n",
       "      <td>0</td>\n",
       "    </tr>\n",
       "    <tr>\n",
       "      <th>2</th>\n",
       "      <td>20.000001</td>\n",
       "      <td>3.549980</td>\n",
       "      <td>1491.5797</td>\n",
       "      <td>0.029405</td>\n",
       "      <td>8.288285</td>\n",
       "      <td>0.0</td>\n",
       "      <td>0.0</td>\n",
       "      <td>21.305294</td>\n",
       "      <td>0</td>\n",
       "      <td>0</td>\n",
       "    </tr>\n",
       "    <tr>\n",
       "      <th>3</th>\n",
       "      <td>30.000001</td>\n",
       "      <td>3.553131</td>\n",
       "      <td>1492.3679</td>\n",
       "      <td>0.044130</td>\n",
       "      <td>12.432512</td>\n",
       "      <td>0.0</td>\n",
       "      <td>0.0</td>\n",
       "      <td>21.574135</td>\n",
       "      <td>0</td>\n",
       "      <td>0</td>\n",
       "    </tr>\n",
       "    <tr>\n",
       "      <th>4</th>\n",
       "      <td>40.000002</td>\n",
       "      <td>3.555572</td>\n",
       "      <td>1490.9886</td>\n",
       "      <td>0.058865</td>\n",
       "      <td>16.576689</td>\n",
       "      <td>0.0</td>\n",
       "      <td>0.0</td>\n",
       "      <td>21.510880</td>\n",
       "      <td>0</td>\n",
       "      <td>0</td>\n",
       "    </tr>\n",
       "  </tbody>\n",
       "</table>\n",
       "</div>"
      ],
      "text/plain": [
       "      time_s   Ecell_V       I_mA  EnergyCharge_W_h  QCharge_mA_h  \\\n",
       "0   0.000000  3.538717  1491.3828          0.000000      0.000000   \n",
       "1  10.000000  3.545570  1492.1708          0.014693      4.144108   \n",
       "2  20.000001  3.549980  1491.5797          0.029405      8.288285   \n",
       "3  30.000001  3.553131  1492.3679          0.044130     12.432512   \n",
       "4  40.000002  3.555572  1490.9886          0.058865     16.576689   \n",
       "\n",
       "   EnergyDischarge_W_h  QDischarge_mA_h  Temperature__C  cycleNumber  Ns  \n",
       "0                  0.0              0.0       21.139246            0   0  \n",
       "1                  0.0              0.0       21.115524            0   0  \n",
       "2                  0.0              0.0       21.305294            0   0  \n",
       "3                  0.0              0.0       21.574135            0   0  \n",
       "4                  0.0              0.0       21.510880            0   0  "
      ]
     },
     "execution_count": 4,
     "metadata": {},
     "output_type": "execute_result"
    }
   ],
   "source": [
    "baseline.head()"
   ]
  },
  {
   "cell_type": "code",
   "execution_count": 5,
   "id": "c160c268-60e5-4671-a6ad-ac65dac55418",
   "metadata": {},
   "outputs": [
    {
     "data": {
      "text/plain": [
       "(1091477, 10)"
      ]
     },
     "execution_count": 5,
     "metadata": {},
     "output_type": "execute_result"
    }
   ],
   "source": [
    "baseline.shape"
   ]
  },
  {
   "cell_type": "code",
   "execution_count": 6,
   "id": "60be25cb-0120-429e-b888-74b7e958f815",
   "metadata": {},
   "outputs": [],
   "source": [
    "baseline_impedance = pd.read_csv(\"VAH01_impedance.csv\")"
   ]
  },
  {
   "cell_type": "code",
   "execution_count": 7,
   "id": "6f2e72f7-ba3b-4842-8136-ae41158a585d",
   "metadata": {},
   "outputs": [],
   "source": [
    "Extended_cruise = pd.read_csv(\"VAH02.csv\")"
   ]
  },
  {
   "cell_type": "code",
   "execution_count": 7,
   "id": "eaea0f82-ffe2-4398-84d4-3b35ce85e65e",
   "metadata": {},
   "outputs": [
    {
     "data": {
      "text/plain": [
       "(1004761, 10)"
      ]
     },
     "execution_count": 7,
     "metadata": {},
     "output_type": "execute_result"
    }
   ],
   "source": [
    "Extended_cruise.shape"
   ]
  },
  {
   "cell_type": "code",
   "execution_count": 50,
   "id": "ffae31ff-83d0-468d-b313-dc8227fac898",
   "metadata": {},
   "outputs": [],
   "source": [
    "df_cycle_number_grouped = baseline.groupby('cycleNumber',as_index=False).sum()"
   ]
  },
  {
   "cell_type": "code",
   "execution_count": 51,
   "id": "69104462-9c23-401a-bd1e-2687a244a8c8",
   "metadata": {},
   "outputs": [
    {
     "data": {
      "text/html": [
       "<div>\n",
       "<style scoped>\n",
       "    .dataframe tbody tr th:only-of-type {\n",
       "        vertical-align: middle;\n",
       "    }\n",
       "\n",
       "    .dataframe tbody tr th {\n",
       "        vertical-align: top;\n",
       "    }\n",
       "\n",
       "    .dataframe thead th {\n",
       "        text-align: right;\n",
       "    }\n",
       "</style>\n",
       "<table border=\"1\" class=\"dataframe\">\n",
       "  <thead>\n",
       "    <tr style=\"text-align: right;\">\n",
       "      <th></th>\n",
       "      <th>cycleNumber</th>\n",
       "      <th>time_s</th>\n",
       "      <th>Ecell_V</th>\n",
       "      <th>I_mA</th>\n",
       "      <th>EnergyCharge_W_h</th>\n",
       "      <th>QCharge_mA_h</th>\n",
       "      <th>EnergyDischarge_W_h</th>\n",
       "      <th>QDischarge_mA_h</th>\n",
       "      <th>Temperature__C</th>\n",
       "      <th>Ns</th>\n",
       "    </tr>\n",
       "  </thead>\n",
       "  <tbody>\n",
       "    <tr>\n",
       "      <th>0</th>\n",
       "      <td>0</td>\n",
       "      <td>2.350712e+11</td>\n",
       "      <td>334697.695250</td>\n",
       "      <td>-5.945358e+07</td>\n",
       "      <td>703848.366197</td>\n",
       "      <td>6.833943e+06</td>\n",
       "      <td>-462226.476161</td>\n",
       "      <td>1.206076e+08</td>\n",
       "      <td>2.167049e+06</td>\n",
       "      <td>459739</td>\n",
       "    </tr>\n",
       "    <tr>\n",
       "      <th>1</th>\n",
       "      <td>1</td>\n",
       "      <td>2.265542e+11</td>\n",
       "      <td>265238.456216</td>\n",
       "      <td>-5.008161e+07</td>\n",
       "      <td>498907.351564</td>\n",
       "      <td>4.527145e+06</td>\n",
       "      <td>-359696.658344</td>\n",
       "      <td>9.394806e+07</td>\n",
       "      <td>1.754394e+06</td>\n",
       "      <td>363499</td>\n",
       "    </tr>\n",
       "    <tr>\n",
       "      <th>2</th>\n",
       "      <td>2</td>\n",
       "      <td>1.439640e+11</td>\n",
       "      <td>204601.166536</td>\n",
       "      <td>-4.112822e+07</td>\n",
       "      <td>393467.820433</td>\n",
       "      <td>3.615032e+06</td>\n",
       "      <td>-278546.139321</td>\n",
       "      <td>7.277746e+07</td>\n",
       "      <td>1.353099e+06</td>\n",
       "      <td>281456</td>\n",
       "    </tr>\n",
       "    <tr>\n",
       "      <th>3</th>\n",
       "      <td>3</td>\n",
       "      <td>1.624555e+11</td>\n",
       "      <td>203331.411596</td>\n",
       "      <td>-4.082809e+07</td>\n",
       "      <td>394372.122329</td>\n",
       "      <td>3.813812e+06</td>\n",
       "      <td>-273435.596081</td>\n",
       "      <td>7.144095e+07</td>\n",
       "      <td>1.389820e+06</td>\n",
       "      <td>278174</td>\n",
       "    </tr>\n",
       "    <tr>\n",
       "      <th>4</th>\n",
       "      <td>4</td>\n",
       "      <td>1.805572e+11</td>\n",
       "      <td>201219.041880</td>\n",
       "      <td>-4.049558e+07</td>\n",
       "      <td>389742.064917</td>\n",
       "      <td>3.833184e+06</td>\n",
       "      <td>-267275.766292</td>\n",
       "      <td>6.986056e+07</td>\n",
       "      <td>1.367141e+06</td>\n",
       "      <td>274097</td>\n",
       "    </tr>\n",
       "    <tr>\n",
       "      <th>...</th>\n",
       "      <td>...</td>\n",
       "      <td>...</td>\n",
       "      <td>...</td>\n",
       "      <td>...</td>\n",
       "      <td>...</td>\n",
       "      <td>...</td>\n",
       "      <td>...</td>\n",
       "      <td>...</td>\n",
       "      <td>...</td>\n",
       "      <td>...</td>\n",
       "    </tr>\n",
       "    <tr>\n",
       "      <th>245</th>\n",
       "      <td>245</td>\n",
       "      <td>6.161883e+09</td>\n",
       "      <td>9479.648564</td>\n",
       "      <td>-7.223888e+06</td>\n",
       "      <td>17435.643096</td>\n",
       "      <td>7.532594e+05</td>\n",
       "      <td>-8666.916249</td>\n",
       "      <td>2.428323e+06</td>\n",
       "      <td>8.052271e+04</td>\n",
       "      <td>12232</td>\n",
       "    </tr>\n",
       "    <tr>\n",
       "      <th>246</th>\n",
       "      <td>246</td>\n",
       "      <td>6.184046e+09</td>\n",
       "      <td>9500.212466</td>\n",
       "      <td>-7.222546e+06</td>\n",
       "      <td>17457.088838</td>\n",
       "      <td>7.564337e+05</td>\n",
       "      <td>-8685.883348</td>\n",
       "      <td>2.432866e+06</td>\n",
       "      <td>8.089309e+04</td>\n",
       "      <td>12255</td>\n",
       "    </tr>\n",
       "    <tr>\n",
       "      <th>247</th>\n",
       "      <td>247</td>\n",
       "      <td>6.140968e+09</td>\n",
       "      <td>9434.065463</td>\n",
       "      <td>-7.225866e+06</td>\n",
       "      <td>17326.792358</td>\n",
       "      <td>7.216794e+05</td>\n",
       "      <td>-8711.453384</td>\n",
       "      <td>2.440093e+06</td>\n",
       "      <td>8.064885e+04</td>\n",
       "      <td>12264</td>\n",
       "    </tr>\n",
       "    <tr>\n",
       "      <th>248</th>\n",
       "      <td>248</td>\n",
       "      <td>6.173864e+09</td>\n",
       "      <td>9411.688936</td>\n",
       "      <td>-7.225095e+06</td>\n",
       "      <td>17299.305423</td>\n",
       "      <td>7.512265e+05</td>\n",
       "      <td>-8567.182985</td>\n",
       "      <td>2.400476e+06</td>\n",
       "      <td>7.998937e+04</td>\n",
       "      <td>12117</td>\n",
       "    </tr>\n",
       "    <tr>\n",
       "      <th>249</th>\n",
       "      <td>249</td>\n",
       "      <td>6.132083e+09</td>\n",
       "      <td>9404.755672</td>\n",
       "      <td>-7.233098e+06</td>\n",
       "      <td>17277.094163</td>\n",
       "      <td>7.306091e+05</td>\n",
       "      <td>-8629.767458</td>\n",
       "      <td>2.418875e+06</td>\n",
       "      <td>7.980414e+04</td>\n",
       "      <td>12184</td>\n",
       "    </tr>\n",
       "  </tbody>\n",
       "</table>\n",
       "<p>250 rows × 10 columns</p>\n",
       "</div>"
      ],
      "text/plain": [
       "     cycleNumber        time_s        Ecell_V          I_mA  EnergyCharge_W_h  \\\n",
       "0              0  2.350712e+11  334697.695250 -5.945358e+07     703848.366197   \n",
       "1              1  2.265542e+11  265238.456216 -5.008161e+07     498907.351564   \n",
       "2              2  1.439640e+11  204601.166536 -4.112822e+07     393467.820433   \n",
       "3              3  1.624555e+11  203331.411596 -4.082809e+07     394372.122329   \n",
       "4              4  1.805572e+11  201219.041880 -4.049558e+07     389742.064917   \n",
       "..           ...           ...            ...           ...               ...   \n",
       "245          245  6.161883e+09    9479.648564 -7.223888e+06      17435.643096   \n",
       "246          246  6.184046e+09    9500.212466 -7.222546e+06      17457.088838   \n",
       "247          247  6.140968e+09    9434.065463 -7.225866e+06      17326.792358   \n",
       "248          248  6.173864e+09    9411.688936 -7.225095e+06      17299.305423   \n",
       "249          249  6.132083e+09    9404.755672 -7.233098e+06      17277.094163   \n",
       "\n",
       "     QCharge_mA_h  EnergyDischarge_W_h  QDischarge_mA_h  Temperature__C  \\\n",
       "0    6.833943e+06       -462226.476161     1.206076e+08    2.167049e+06   \n",
       "1    4.527145e+06       -359696.658344     9.394806e+07    1.754394e+06   \n",
       "2    3.615032e+06       -278546.139321     7.277746e+07    1.353099e+06   \n",
       "3    3.813812e+06       -273435.596081     7.144095e+07    1.389820e+06   \n",
       "4    3.833184e+06       -267275.766292     6.986056e+07    1.367141e+06   \n",
       "..            ...                  ...              ...             ...   \n",
       "245  7.532594e+05         -8666.916249     2.428323e+06    8.052271e+04   \n",
       "246  7.564337e+05         -8685.883348     2.432866e+06    8.089309e+04   \n",
       "247  7.216794e+05         -8711.453384     2.440093e+06    8.064885e+04   \n",
       "248  7.512265e+05         -8567.182985     2.400476e+06    7.998937e+04   \n",
       "249  7.306091e+05         -8629.767458     2.418875e+06    7.980414e+04   \n",
       "\n",
       "         Ns  \n",
       "0    459739  \n",
       "1    363499  \n",
       "2    281456  \n",
       "3    278174  \n",
       "4    274097  \n",
       "..      ...  \n",
       "245   12232  \n",
       "246   12255  \n",
       "247   12264  \n",
       "248   12117  \n",
       "249   12184  \n",
       "\n",
       "[250 rows x 10 columns]"
      ]
     },
     "execution_count": 51,
     "metadata": {},
     "output_type": "execute_result"
    }
   ],
   "source": [
    "df_cycle_number_grouped"
   ]
  },
  {
   "cell_type": "code",
   "execution_count": 52,
   "id": "6e2bb72d-47de-4a59-bb7d-182097232434",
   "metadata": {},
   "outputs": [],
   "source": [
    "fig = px.line(df_cycle_number_grouped,x='cycleNumber',y='EnergyCharge_W_h')"
   ]
  },
  {
   "cell_type": "code",
   "execution_count": 54,
   "id": "5c1338b4-8504-4f07-810b-fe74f80dd437",
   "metadata": {},
   "outputs": [],
   "source": [
    "fig = px.line(df_cycle_number_grouped,x='cycleNumber',y='EnergyDischarge_W_h')"
   ]
  },
  {
   "cell_type": "code",
   "execution_count": 56,
   "id": "ec71b861-d30a-4755-a4c5-208c312b2d5e",
   "metadata": {},
   "outputs": [],
   "source": [
    "fig = px.line(df_cycle_number_grouped,x='cycleNumber',y='QDischarge_mA_h')"
   ]
  },
  {
   "cell_type": "code",
   "execution_count": 58,
   "id": "7c059fec-f95c-47a4-9eaf-81103b513c4d",
   "metadata": {},
   "outputs": [],
   "source": [
    "fig = px.line(df_cycle_number_grouped,x='cycleNumber',y='I_mA')"
   ]
  },
  {
   "cell_type": "code",
   "execution_count": 60,
   "id": "43d9c9b8-0056-4fb5-9445-7c02dab4e98d",
   "metadata": {},
   "outputs": [],
   "source": [
    "fig = px.line(df_cycle_number_grouped,x='cycleNumber',y='Ecell_V')"
   ]
  },
  {
   "cell_type": "code",
   "execution_count": 62,
   "id": "42d4120a-d4a9-4318-8b47-7c88850b0cb9",
   "metadata": {},
   "outputs": [],
   "source": [
    "fig = px.scatter(df_cycle_number_grouped,y='Temperature__C',x='cycleNumber')"
   ]
  },
  {
   "cell_type": "code",
   "execution_count": 12,
   "id": "be938457-381e-4674-8474-ddeff3fb7f86",
   "metadata": {},
   "outputs": [],
   "source": [
    "fig = px.histogram(baseline,x='Temperature__C')"
   ]
  },
  {
   "cell_type": "code",
   "execution_count": 16,
   "id": "a1998421-78b9-4b6d-8021-b55ce73dd479",
   "metadata": {
    "jupyter": {
     "source_hidden": true
    }
   },
   "outputs": [],
   "source": [
    "df_c = baseline.groupby('cycleNumber',as_index=False)[[\"EnergyCharge_W_h\",\"EnergyDischarge_W_h\"]].sum()"
   ]
  },
  {
   "cell_type": "code",
   "execution_count": 17,
   "id": "0bf7b853-7fbf-40d8-bb74-ad7f98416520",
   "metadata": {},
   "outputs": [
    {
     "data": {
      "text/html": [
       "<div>\n",
       "<style scoped>\n",
       "    .dataframe tbody tr th:only-of-type {\n",
       "        vertical-align: middle;\n",
       "    }\n",
       "\n",
       "    .dataframe tbody tr th {\n",
       "        vertical-align: top;\n",
       "    }\n",
       "\n",
       "    .dataframe thead th {\n",
       "        text-align: right;\n",
       "    }\n",
       "</style>\n",
       "<table border=\"1\" class=\"dataframe\">\n",
       "  <thead>\n",
       "    <tr style=\"text-align: right;\">\n",
       "      <th></th>\n",
       "      <th>cycleNumber</th>\n",
       "      <th>EnergyCharge_W_h</th>\n",
       "      <th>EnergyDischarge_W_h</th>\n",
       "    </tr>\n",
       "  </thead>\n",
       "  <tbody>\n",
       "    <tr>\n",
       "      <th>0</th>\n",
       "      <td>0</td>\n",
       "      <td>703848.366197</td>\n",
       "      <td>-462226.476161</td>\n",
       "    </tr>\n",
       "    <tr>\n",
       "      <th>1</th>\n",
       "      <td>1</td>\n",
       "      <td>498907.351564</td>\n",
       "      <td>-359696.658344</td>\n",
       "    </tr>\n",
       "    <tr>\n",
       "      <th>2</th>\n",
       "      <td>2</td>\n",
       "      <td>393467.820433</td>\n",
       "      <td>-278546.139321</td>\n",
       "    </tr>\n",
       "    <tr>\n",
       "      <th>3</th>\n",
       "      <td>3</td>\n",
       "      <td>394372.122329</td>\n",
       "      <td>-273435.596081</td>\n",
       "    </tr>\n",
       "    <tr>\n",
       "      <th>4</th>\n",
       "      <td>4</td>\n",
       "      <td>389742.064917</td>\n",
       "      <td>-267275.766292</td>\n",
       "    </tr>\n",
       "  </tbody>\n",
       "</table>\n",
       "</div>"
      ],
      "text/plain": [
       "   cycleNumber  EnergyCharge_W_h  EnergyDischarge_W_h\n",
       "0            0     703848.366197       -462226.476161\n",
       "1            1     498907.351564       -359696.658344\n",
       "2            2     393467.820433       -278546.139321\n",
       "3            3     394372.122329       -273435.596081\n",
       "4            4     389742.064917       -267275.766292"
      ]
     },
     "execution_count": 17,
     "metadata": {},
     "output_type": "execute_result"
    }
   ],
   "source": [
    "df_c.head()"
   ]
  },
  {
   "cell_type": "code",
   "execution_count": 20,
   "id": "4b2a1679-580c-4916-a287-627271295d3e",
   "metadata": {},
   "outputs": [],
   "source": [
    "fig = px.scatter(df_c,x=\"EnergyCharge_W_h\",y=\"EnergyDischarge_W_h\",color=\"cycleNumber\")"
   ]
  },
  {
   "cell_type": "code",
   "execution_count": null,
   "id": "ebc53b55-4c3f-4355-9ce3-d235a4ea9b0a",
   "metadata": {},
   "outputs": [],
   "source": []
  }
 ],
 "metadata": {
  "kernelspec": {
   "display_name": "Python 3 (ipykernel)",
   "language": "python",
   "name": "python3"
  },
  "language_info": {
   "codemirror_mode": {
    "name": "ipython",
    "version": 3
   },
   "file_extension": ".py",
   "mimetype": "text/x-python",
   "name": "python",
   "nbconvert_exporter": "python",
   "pygments_lexer": "ipython3",
   "version": "3.12.3"
  }
 },
 "nbformat": 4,
 "nbformat_minor": 5
}
